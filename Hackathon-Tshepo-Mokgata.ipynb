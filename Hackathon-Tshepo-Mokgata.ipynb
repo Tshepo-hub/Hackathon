{
 "cells": [
  {
   "cell_type": "markdown",
   "id": "5fb10d0c",
   "metadata": {},
   "source": [
    " ## Hackathon"
   ]
  },
  {
   "cell_type": "code",
   "execution_count": 1,
   "id": "120e6f72",
   "metadata": {},
   "outputs": [],
   "source": [
    "import nltk\n",
    "from nltk import TreebankWordTokenizer, SnowballStemmer\n",
    "from nltk.stem import WordNetLemmatizer\n",
    "from nltk.corpus import stopwords\n",
    "import pandas as pd\n",
    "import numpy as np\n",
    "import matplotlib.pyplot as plt\n",
    "%matplotlib inline\n",
    "from matplotlib.colors import ListedColormap\n",
    "\n",
    "from sklearn.feature_extraction.text import CountVectorizer\n",
    "from sklearn.feature_extraction.text import TfidfVectorizer\n",
    "\n",
    "from sklearn.model_selection import cross_val_score\n",
    "from sklearn.model_selection import train_test_split\n",
    "from sklearn import metrics\n",
    "\n",
    "from sklearn import preprocessing\n",
    "from sklearn.preprocessing import StandardScaler\n",
    "from sklearn.datasets import make_moons, make_circles, make_classification\n",
    "\n",
    "from sklearn.linear_model import LogisticRegression\n",
    "from sklearn.neighbors import KNeighborsClassifier\n",
    "from sklearn.svm import SVC\n",
    "from sklearn.discriminant_analysis import LinearDiscriminantAnalysis\n",
    "from sklearn.discriminant_analysis import QuadraticDiscriminantAnalysis\n",
    "from sklearn.tree import DecisionTreeClassifier\n",
    "from sklearn.ensemble import RandomForestClassifier, AdaBoostClassifier\n",
    "from sklearn.metrics import accuracy_score, confusion_matrix, classification_report\n",
    "from sklearn.naive_bayes import MultinomialNB\n",
    "from sklearn.metrics import roc_auc_score\n",
    "from sklearn.metrics import recall_score\n",
    "from sklearn.metrics import precision_score\n",
    "from sklearn.metrics import f1_score\n",
    "import os\n",
    "import re\n",
    "import string\n",
    "import urllib\n",
    "import seaborn as sns; sns.set()\n",
    "\n",
    "pd.set_option('display.max_rows', None)\n",
    "pd.set_option('display.max_columns', None)\n",
    "pd.set_option('display.max_colwidth', None)"
   ]
  },
  {
   "cell_type": "code",
   "execution_count": 15,
   "id": "30086ed2",
   "metadata": {},
   "outputs": [],
   "source": [
    "dftrain = pd.read_csv('train_set.csv')\n",
    "dftest = pd.read_csv ('test_set.csv')"
   ]
  },
  {
   "cell_type": "code",
   "execution_count": 16,
   "id": "ea9255b5",
   "metadata": {},
   "outputs": [
    {
     "data": {
      "text/html": [
       "<div>\n",
       "<style scoped>\n",
       "    .dataframe tbody tr th:only-of-type {\n",
       "        vertical-align: middle;\n",
       "    }\n",
       "\n",
       "    .dataframe tbody tr th {\n",
       "        vertical-align: top;\n",
       "    }\n",
       "\n",
       "    .dataframe thead th {\n",
       "        text-align: right;\n",
       "    }\n",
       "</style>\n",
       "<table border=\"1\" class=\"dataframe\">\n",
       "  <thead>\n",
       "    <tr style=\"text-align: right;\">\n",
       "      <th></th>\n",
       "      <th>lang_id</th>\n",
       "      <th>text</th>\n",
       "    </tr>\n",
       "  </thead>\n",
       "  <tbody>\n",
       "    <tr>\n",
       "      <th>0</th>\n",
       "      <td>xho</td>\n",
       "      <td>umgaqo-siseko wenza amalungiselelo kumaziko axhasa ulawulo lwesininzi kunye nokuthath inxaxheba kwabafazi ezi ziquka phakathi kwezinye zazo ikomishoni yokulingana ngokwesini ikomishoni yamalungelo oluntu lomzantsi afrika</td>\n",
       "    </tr>\n",
       "    <tr>\n",
       "      <th>1</th>\n",
       "      <td>xho</td>\n",
       "      <td>i-dha iya kuba nobulumko bokubeka umsebenzi naphi na kwisebe ngokusekwe kwiimfuno zokusebenza zalo emva kokubonana nomsebenzi kunye okanye imanyano yakhe ukuba ulandulo lomntu onjalo alufanelekanga i-dha mayibize uncedo olufanelekileyo elungelweni layo</td>\n",
       "    </tr>\n",
       "    <tr>\n",
       "      <th>2</th>\n",
       "      <td>eng</td>\n",
       "      <td>the province of kwazulu-natal department of transport invites tenders from established contractors experienced in bridge construction for the construction of the kwajolwayo tugela river pedestrian bridge near tugela ferry the duration of the project will be months</td>\n",
       "    </tr>\n",
       "    <tr>\n",
       "      <th>3</th>\n",
       "      <td>nso</td>\n",
       "      <td>o netefatša gore o ba file dilo ka moka tše le dumelelanego ka tšona mohlala maleri a magolo a a šomišwago go fihlelela meagong e metelele scaffolds a a bolokegilego lefelo la maleba la go šomela go phela gabotse bjbj</td>\n",
       "    </tr>\n",
       "    <tr>\n",
       "      <th>4</th>\n",
       "      <td>ven</td>\n",
       "      <td>khomishini ya ndinganyiso ya mbeu yo ewa maana u ya nga mulayo wa khomishini ya ndinganyiso ya mbeu u thetshelesa mbilaelo dzine dza tshimbilelana na tshialula u ya nga mbeu nahone i ivhea sa foramu ya thungo u ya nga mulayo wa ndinganyiso</td>\n",
       "    </tr>\n",
       "    <tr>\n",
       "      <th>5</th>\n",
       "      <td>nso</td>\n",
       "      <td>dinyakišišo tše tša go dirwa gabedi ka ngwaga di tla lebelela diphetogo tša mebaraka ya mešomo le mekgwa ga mmogo le go thapiwa mešomong ka makaleng ao mešomo ao lego molaong le ao a sego molaong le go hloka me omo</td>\n",
       "    </tr>\n",
       "    <tr>\n",
       "      <th>6</th>\n",
       "      <td>tsn</td>\n",
       "      <td>kgetse nngwe le nngwe e e sa faposiwang mo tshekong go ya ka temana ya a e tshwanetse kwa ntle ga fa kgetse e tsholotswe kgotsa e fetiseditswe kwa kgotlatshekelo ya bana ya fetisediwa kwa kgotlatshekelo ya bosiamisi ya ngwana gore a ikarabele mo tatofatsong le go sekiwa ga kgetse go ya ka kgaolo ya</td>\n",
       "    </tr>\n",
       "    <tr>\n",
       "      <th>7</th>\n",
       "      <td>ven</td>\n",
       "      <td>mbadelo dze dza laelwa dzi do kwama mahatulele apo a khothe ya madzhisitirata lihoro line la si vhe na mulandu li do vha lone line la wana masheleni ngeno lihoro le la wanwa mulandu li tshi do vha lone line la tea u lifha ayo masheleni o laelwaho nga khothe</td>\n",
       "    </tr>\n",
       "    <tr>\n",
       "      <th>8</th>\n",
       "      <td>nso</td>\n",
       "      <td>maloko a dikhuduthamaga a ikarabela mongwe le mongwe go tonakgolo le go thteramelao ya profense malebana le taolo ya dipotfolio tša bona mme maloko a mangwe ka moka a khuduthamaga le wona bjalo a ikrabela ka seboka mabapi le phethagatšo ya mediro ya mmušo wa profense le go merero ya wona</td>\n",
       "    </tr>\n",
       "    <tr>\n",
       "      <th>9</th>\n",
       "      <td>tsn</td>\n",
       "      <td>fa le dirisiwa lebone le tshwanetse go bontsha lesedi le le benyabenyang le le bogale jo bo dirang gore le kgone go bonwa ke motho yo o bonang sentle mo leseding le le tlwaelegileng mo sekgaleng sa dimitara di le</td>\n",
       "    </tr>\n",
       "  </tbody>\n",
       "</table>\n",
       "</div>"
      ],
      "text/plain": [
       "  lang_id  \\\n",
       "0     xho   \n",
       "1     xho   \n",
       "2     eng   \n",
       "3     nso   \n",
       "4     ven   \n",
       "5     nso   \n",
       "6     tsn   \n",
       "7     ven   \n",
       "8     nso   \n",
       "9     tsn   \n",
       "\n",
       "                                                                                                                                                                                                                                                                                                          text  \n",
       "0                                                                                 umgaqo-siseko wenza amalungiselelo kumaziko axhasa ulawulo lwesininzi kunye nokuthath inxaxheba kwabafazi ezi ziquka phakathi kwezinye zazo ikomishoni yokulingana ngokwesini ikomishoni yamalungelo oluntu lomzantsi afrika  \n",
       "1                                                 i-dha iya kuba nobulumko bokubeka umsebenzi naphi na kwisebe ngokusekwe kwiimfuno zokusebenza zalo emva kokubonana nomsebenzi kunye okanye imanyano yakhe ukuba ulandulo lomntu onjalo alufanelekanga i-dha mayibize uncedo olufanelekileyo elungelweni layo  \n",
       "2                                     the province of kwazulu-natal department of transport invites tenders from established contractors experienced in bridge construction for the construction of the kwajolwayo tugela river pedestrian bridge near tugela ferry the duration of the project will be months  \n",
       "3                                                                                    o netefatša gore o ba file dilo ka moka tše le dumelelanego ka tšona mohlala maleri a magolo a a šomišwago go fihlelela meagong e metelele scaffolds a a bolokegilego lefelo la maleba la go šomela go phela gabotse bjbj  \n",
       "4                                                              khomishini ya ndinganyiso ya mbeu yo ewa maana u ya nga mulayo wa khomishini ya ndinganyiso ya mbeu u thetshelesa mbilaelo dzine dza tshimbilelana na tshialula u ya nga mbeu nahone i ivhea sa foramu ya thungo u ya nga mulayo wa ndinganyiso  \n",
       "5                                                                                       dinyakišišo tše tša go dirwa gabedi ka ngwaga di tla lebelela diphetogo tša mebaraka ya mešomo le mekgwa ga mmogo le go thapiwa mešomong ka makaleng ao mešomo ao lego molaong le ao a sego molaong le go hloka me omo  \n",
       "6  kgetse nngwe le nngwe e e sa faposiwang mo tshekong go ya ka temana ya a e tshwanetse kwa ntle ga fa kgetse e tsholotswe kgotsa e fetiseditswe kwa kgotlatshekelo ya bana ya fetisediwa kwa kgotlatshekelo ya bosiamisi ya ngwana gore a ikarabele mo tatofatsong le go sekiwa ga kgetse go ya ka kgaolo ya  \n",
       "7                                            mbadelo dze dza laelwa dzi do kwama mahatulele apo a khothe ya madzhisitirata lihoro line la si vhe na mulandu li do vha lone line la wana masheleni ngeno lihoro le la wanwa mulandu li tshi do vha lone line la tea u lifha ayo masheleni o laelwaho nga khothe  \n",
       "8             maloko a dikhuduthamaga a ikarabela mongwe le mongwe go tonakgolo le go thteramelao ya profense malebana le taolo ya dipotfolio tša bona mme maloko a mangwe ka moka a khuduthamaga le wona bjalo a ikrabela ka seboka mabapi le phethagatšo ya mediro ya mmušo wa profense le go merero ya wona  \n",
       "9                                                                                         fa le dirisiwa lebone le tshwanetse go bontsha lesedi le le benyabenyang le le bogale jo bo dirang gore le kgone go bonwa ke motho yo o bonang sentle mo leseding le le tlwaelegileng mo sekgaleng sa dimitara di le  "
      ]
     },
     "execution_count": 16,
     "metadata": {},
     "output_type": "execute_result"
    }
   ],
   "source": [
    "dftrain.head(10)"
   ]
  },
  {
   "cell_type": "code",
   "execution_count": 18,
   "id": "dce80224",
   "metadata": {},
   "outputs": [
    {
     "data": {
      "text/html": [
       "<div>\n",
       "<style scoped>\n",
       "    .dataframe tbody tr th:only-of-type {\n",
       "        vertical-align: middle;\n",
       "    }\n",
       "\n",
       "    .dataframe tbody tr th {\n",
       "        vertical-align: top;\n",
       "    }\n",
       "\n",
       "    .dataframe thead th {\n",
       "        text-align: right;\n",
       "    }\n",
       "</style>\n",
       "<table border=\"1\" class=\"dataframe\">\n",
       "  <thead>\n",
       "    <tr style=\"text-align: right;\">\n",
       "      <th></th>\n",
       "      <th>index</th>\n",
       "      <th>text</th>\n",
       "    </tr>\n",
       "  </thead>\n",
       "  <tbody>\n",
       "    <tr>\n",
       "      <th>0</th>\n",
       "      <td>1</td>\n",
       "      <td>Mmasepala, fa maemo a a kgethegileng a letlelela kgato eo.</td>\n",
       "    </tr>\n",
       "    <tr>\n",
       "      <th>1</th>\n",
       "      <td>2</td>\n",
       "      <td>Uzakwaziswa ngokufaneleko nakungafuneka eminye imitlolo engezelelako ukuqedelela ukutloliswa kwesibawo sakho.</td>\n",
       "    </tr>\n",
       "    <tr>\n",
       "      <th>2</th>\n",
       "      <td>3</td>\n",
       "      <td>Tshivhumbeo tshi fana na ngano dza vhathu.</td>\n",
       "    </tr>\n",
       "    <tr>\n",
       "      <th>3</th>\n",
       "      <td>4</td>\n",
       "      <td>Kube inja nelikati betingevakala kutsi titsini naticocisana.</td>\n",
       "    </tr>\n",
       "    <tr>\n",
       "      <th>4</th>\n",
       "      <td>5</td>\n",
       "      <td>Winste op buitelandse valuta.</td>\n",
       "    </tr>\n",
       "    <tr>\n",
       "      <th>5</th>\n",
       "      <td>6</td>\n",
       "      <td>Ke feela dilense tše hlakilego, tša pono e tee goba tše pedi tšeo di lefelelwago. Kgetho ya diforeimo e a hwetšagala yeo maloko a ka kgethago go tšwa go yona. Ge o nyaka foreimo ya go bitša ga nnyane, o tla swanelwa ke go lefelela phapano yeo.</td>\n",
       "    </tr>\n",
       "    <tr>\n",
       "      <th>6</th>\n",
       "      <td>7</td>\n",
       "      <td>&lt;fn&gt;(762010101403 AM) 1495 Final Gems Birthing Options_ZULU.txt&lt;/fn&gt;</td>\n",
       "    </tr>\n",
       "    <tr>\n",
       "      <th>7</th>\n",
       "      <td>8</td>\n",
       "      <td>Ntjhafatso ya konteraka ya mosebetsi: Etsa bonnete hore tsohle tse lokelwang ho ngolwa fatshe di entswe!</td>\n",
       "    </tr>\n",
       "    <tr>\n",
       "      <th>8</th>\n",
       "      <td>9</td>\n",
       "      <td>u-GEMS uhlinzeka ngezinzuzo zemithi yezifo ezingapheli kuwo wonke amalunga. ukuze ukwazi ukuthola imithi yezifo ezingapheli kufanele ubhalise ohlelweni lwemithi yezifo ezingapheli, emva kokuthola isaziso sokuthi iyilunga elibhalisiwe lakwa-GEMS.</td>\n",
       "    </tr>\n",
       "    <tr>\n",
       "      <th>9</th>\n",
       "      <td>10</td>\n",
       "      <td>So, on occasion, are statistics misused.</td>\n",
       "    </tr>\n",
       "  </tbody>\n",
       "</table>\n",
       "</div>"
      ],
      "text/plain": [
       "   index  \\\n",
       "0      1   \n",
       "1      2   \n",
       "2      3   \n",
       "3      4   \n",
       "4      5   \n",
       "5      6   \n",
       "6      7   \n",
       "7      8   \n",
       "8      9   \n",
       "9     10   \n",
       "\n",
       "                                                                                                                                                                                                                                                    text  \n",
       "0                                                                                                                                                                                             Mmasepala, fa maemo a a kgethegileng a letlelela kgato eo.  \n",
       "1                                                                                                                                          Uzakwaziswa ngokufaneleko nakungafuneka eminye imitlolo engezelelako ukuqedelela ukutloliswa kwesibawo sakho.  \n",
       "2                                                                                                                                                                                                             Tshivhumbeo tshi fana na ngano dza vhathu.  \n",
       "3                                                                                                                                                                                           Kube inja nelikati betingevakala kutsi titsini naticocisana.  \n",
       "4                                                                                                                                                                                                                          Winste op buitelandse valuta.  \n",
       "5    Ke feela dilense tše hlakilego, tša pono e tee goba tše pedi tšeo di lefelelwago. Kgetho ya diforeimo e a hwetšagala yeo maloko a ka kgethago go tšwa go yona. Ge o nyaka foreimo ya go bitša ga nnyane, o tla swanelwa ke go lefelela phapano yeo.  \n",
       "6                                                                                                                                                                                   <fn>(762010101403 AM) 1495 Final Gems Birthing Options_ZULU.txt</fn>  \n",
       "7                                                                                                                                               Ntjhafatso ya konteraka ya mosebetsi: Etsa bonnete hore tsohle tse lokelwang ho ngolwa fatshe di entswe!  \n",
       "8  u-GEMS uhlinzeka ngezinzuzo zemithi yezifo ezingapheli kuwo wonke amalunga. ukuze ukwazi ukuthola imithi yezifo ezingapheli kufanele ubhalise ohlelweni lwemithi yezifo ezingapheli, emva kokuthola isaziso sokuthi iyilunga elibhalisiwe lakwa-GEMS.  \n",
       "9                                                                                                                                                                                                               So, on occasion, are statistics misused.  "
      ]
     },
     "execution_count": 18,
     "metadata": {},
     "output_type": "execute_result"
    }
   ],
   "source": [
    "dftest.head(10)"
   ]
  },
  {
   "cell_type": "code",
   "execution_count": 5,
   "id": "dc99a316",
   "metadata": {},
   "outputs": [
    {
     "data": {
      "text/plain": [
       "(33000, 2)"
      ]
     },
     "execution_count": 5,
     "metadata": {},
     "output_type": "execute_result"
    }
   ],
   "source": [
    "dftrain.shape"
   ]
  },
  {
   "cell_type": "code",
   "execution_count": 6,
   "id": "704d2309",
   "metadata": {},
   "outputs": [
    {
     "data": {
      "text/plain": [
       "(5682, 2)"
      ]
     },
     "execution_count": 6,
     "metadata": {},
     "output_type": "execute_result"
    }
   ],
   "source": [
    "dftest.shape"
   ]
  },
  {
   "cell_type": "code",
   "execution_count": 7,
   "id": "75b02ead",
   "metadata": {
    "scrolled": true
   },
   "outputs": [
    {
     "name": "stdout",
     "output_type": "stream",
     "text": [
      "ven    3000\n",
      "zul    3000\n",
      "nbl    3000\n",
      "tsn    3000\n",
      "ssw    3000\n",
      "tso    3000\n",
      "afr    3000\n",
      "xho    3000\n",
      "nso    3000\n",
      "sot    3000\n",
      "eng    3000\n",
      "Name: lang_id, dtype: int64\n"
     ]
    }
   ],
   "source": [
    "print(dftrain['lang_id'].value_counts().sort_values(ascending=False).head(11))"
   ]
  },
  {
   "cell_type": "code",
   "execution_count": 21,
   "id": "55bdfc67",
   "metadata": {},
   "outputs": [],
   "source": [
    "def remove_pattern(input_text,partten):\n",
    "    r = re.findall(partten, input_text)\n",
    "    for i in r:\n",
    "        input_text = re.sub(i, '', input_text)\n",
    "    return input_text"
   ]
  },
  {
   "cell_type": "code",
   "execution_count": 23,
   "id": "682e08f1",
   "metadata": {
    "scrolled": false
   },
   "outputs": [
    {
     "data": {
      "text/html": [
       "<div>\n",
       "<style scoped>\n",
       "    .dataframe tbody tr th:only-of-type {\n",
       "        vertical-align: middle;\n",
       "    }\n",
       "\n",
       "    .dataframe tbody tr th {\n",
       "        vertical-align: top;\n",
       "    }\n",
       "\n",
       "    .dataframe thead th {\n",
       "        text-align: right;\n",
       "    }\n",
       "</style>\n",
       "<table border=\"1\" class=\"dataframe\">\n",
       "  <thead>\n",
       "    <tr style=\"text-align: right;\">\n",
       "      <th></th>\n",
       "      <th>lang_id</th>\n",
       "      <th>text</th>\n",
       "      <th>cleaned_text</th>\n",
       "    </tr>\n",
       "  </thead>\n",
       "  <tbody>\n",
       "    <tr>\n",
       "      <th>0</th>\n",
       "      <td>xho</td>\n",
       "      <td>umgaqo-siseko wenza amalungiselelo kumaziko axhasa ulawulo lwesininzi kunye nokuthath inxaxheba kwabafazi ezi ziquka phakathi kwezinye zazo ikomishoni yokulingana ngokwesini ikomishoni yamalungelo oluntu lomzantsi afrika</td>\n",
       "      <td>umgaqosiseko wenza amalungiselelo kumaziko axhasa ulawulo lwesininzi kunye nokuthath inxaxheba kwabafazi ezi ziquka phakathi kwezinye zazo ikomishoni yokulingana ngokwesini ikomishoni yamalungelo oluntu lomzantsi afrika</td>\n",
       "    </tr>\n",
       "    <tr>\n",
       "      <th>1</th>\n",
       "      <td>xho</td>\n",
       "      <td>i-dha iya kuba nobulumko bokubeka umsebenzi naphi na kwisebe ngokusekwe kwiimfuno zokusebenza zalo emva kokubonana nomsebenzi kunye okanye imanyano yakhe ukuba ulandulo lomntu onjalo alufanelekanga i-dha mayibize uncedo olufanelekileyo elungelweni layo</td>\n",
       "      <td>idha iya kuba nobulumko bokubeka umsebenzi naphi na kwisebe ngokusekwe kwiimfuno zokusebenza zalo emva kokubonana nomsebenzi kunye okanye imanyano yakhe ukuba ulandulo lomntu onjalo alufanelekanga idha mayibize uncedo olufanelekileyo elungelweni layo</td>\n",
       "    </tr>\n",
       "    <tr>\n",
       "      <th>2</th>\n",
       "      <td>eng</td>\n",
       "      <td>the province of kwazulu-natal department of transport invites tenders from established contractors experienced in bridge construction for the construction of the kwajolwayo tugela river pedestrian bridge near tugela ferry the duration of the project will be months</td>\n",
       "      <td>the province of kwazulunatal department of transport invites tenders from established contractors experienced in bridge construction for the construction of the kwajolwayo tugela river pedestrian bridge near tugela ferry the duration of the project will be months</td>\n",
       "    </tr>\n",
       "    <tr>\n",
       "      <th>3</th>\n",
       "      <td>nso</td>\n",
       "      <td>o netefatša gore o ba file dilo ka moka tše le dumelelanego ka tšona mohlala maleri a magolo a a šomišwago go fihlelela meagong e metelele scaffolds a a bolokegilego lefelo la maleba la go šomela go phela gabotse bjbj</td>\n",
       "      <td>o netefatša gore o ba file dilo ka moka tše le dumelelanego ka tšona mohlala maleri a magolo a a šomišwago go fihlelela meagong e metelele scaffolds a a bolokegilego lefelo la maleba la go šomela go phela gabotse bjbj</td>\n",
       "    </tr>\n",
       "    <tr>\n",
       "      <th>4</th>\n",
       "      <td>ven</td>\n",
       "      <td>khomishini ya ndinganyiso ya mbeu yo ewa maana u ya nga mulayo wa khomishini ya ndinganyiso ya mbeu u thetshelesa mbilaelo dzine dza tshimbilelana na tshialula u ya nga mbeu nahone i ivhea sa foramu ya thungo u ya nga mulayo wa ndinganyiso</td>\n",
       "      <td>khomishini ya ndinganyiso ya mbeu yo ewa maana u ya nga mulayo wa khomishini ya ndinganyiso ya mbeu u thetshelesa mbilaelo dzine dza tshimbilelana na tshialula u ya nga mbeu nahone i ivhea sa foramu ya thungo u ya nga mulayo wa ndinganyiso</td>\n",
       "    </tr>\n",
       "    <tr>\n",
       "      <th>5</th>\n",
       "      <td>nso</td>\n",
       "      <td>dinyakišišo tše tša go dirwa gabedi ka ngwaga di tla lebelela diphetogo tša mebaraka ya mešomo le mekgwa ga mmogo le go thapiwa mešomong ka makaleng ao mešomo ao lego molaong le ao a sego molaong le go hloka me omo</td>\n",
       "      <td>dinyakišišo tše tša go dirwa gabedi ka ngwaga di tla lebelela diphetogo tša mebaraka ya mešomo le mekgwa ga mmogo le go thapiwa mešomong ka makaleng ao mešomo ao lego molaong le ao a sego molaong le go hloka me omo</td>\n",
       "    </tr>\n",
       "    <tr>\n",
       "      <th>6</th>\n",
       "      <td>tsn</td>\n",
       "      <td>kgetse nngwe le nngwe e e sa faposiwang mo tshekong go ya ka temana ya a e tshwanetse kwa ntle ga fa kgetse e tsholotswe kgotsa e fetiseditswe kwa kgotlatshekelo ya bana ya fetisediwa kwa kgotlatshekelo ya bosiamisi ya ngwana gore a ikarabele mo tatofatsong le go sekiwa ga kgetse go ya ka kgaolo ya</td>\n",
       "      <td>kgetse nngwe le nngwe e e sa faposiwang mo tshekong go ya ka temana ya a e tshwanetse kwa ntle ga fa kgetse e tsholotswe kgotsa e fetiseditswe kwa kgotlatshekelo ya bana ya fetisediwa kwa kgotlatshekelo ya bosiamisi ya ngwana gore a ikarabele mo tatofatsong le go sekiwa ga kgetse go ya ka kgaolo ya</td>\n",
       "    </tr>\n",
       "    <tr>\n",
       "      <th>7</th>\n",
       "      <td>ven</td>\n",
       "      <td>mbadelo dze dza laelwa dzi do kwama mahatulele apo a khothe ya madzhisitirata lihoro line la si vhe na mulandu li do vha lone line la wana masheleni ngeno lihoro le la wanwa mulandu li tshi do vha lone line la tea u lifha ayo masheleni o laelwaho nga khothe</td>\n",
       "      <td>mbadelo dze dza laelwa dzi do kwama mahatulele apo a khothe ya madzhisitirata lihoro line la si vhe na mulandu li do vha lone line la wana masheleni ngeno lihoro le la wanwa mulandu li tshi do vha lone line la tea u lifha ayo masheleni o laelwaho nga khothe</td>\n",
       "    </tr>\n",
       "    <tr>\n",
       "      <th>8</th>\n",
       "      <td>nso</td>\n",
       "      <td>maloko a dikhuduthamaga a ikarabela mongwe le mongwe go tonakgolo le go thteramelao ya profense malebana le taolo ya dipotfolio tša bona mme maloko a mangwe ka moka a khuduthamaga le wona bjalo a ikrabela ka seboka mabapi le phethagatšo ya mediro ya mmušo wa profense le go merero ya wona</td>\n",
       "      <td>maloko a dikhuduthamaga a ikarabela mongwe le mongwe go tonakgolo le go thteramelao ya profense malebana le taolo ya dipotfolio tša bona mme maloko a mangwe ka moka a khuduthamaga le wona bjalo a ikrabela ka seboka mabapi le phethagatšo ya mediro ya mmušo wa profense le go merero ya wona</td>\n",
       "    </tr>\n",
       "    <tr>\n",
       "      <th>9</th>\n",
       "      <td>tsn</td>\n",
       "      <td>fa le dirisiwa lebone le tshwanetse go bontsha lesedi le le benyabenyang le le bogale jo bo dirang gore le kgone go bonwa ke motho yo o bonang sentle mo leseding le le tlwaelegileng mo sekgaleng sa dimitara di le</td>\n",
       "      <td>fa le dirisiwa lebone le tshwanetse go bontsha lesedi le le benyabenyang le le bogale jo bo dirang gore le kgone go bonwa ke motho yo o bonang sentle mo leseding le le tlwaelegileng mo sekgaleng sa dimitara di le</td>\n",
       "    </tr>\n",
       "  </tbody>\n",
       "</table>\n",
       "</div>"
      ],
      "text/plain": [
       "  lang_id  \\\n",
       "0     xho   \n",
       "1     xho   \n",
       "2     eng   \n",
       "3     nso   \n",
       "4     ven   \n",
       "5     nso   \n",
       "6     tsn   \n",
       "7     ven   \n",
       "8     nso   \n",
       "9     tsn   \n",
       "\n",
       "                                                                                                                                                                                                                                                                                                          text  \\\n",
       "0                                                                                 umgaqo-siseko wenza amalungiselelo kumaziko axhasa ulawulo lwesininzi kunye nokuthath inxaxheba kwabafazi ezi ziquka phakathi kwezinye zazo ikomishoni yokulingana ngokwesini ikomishoni yamalungelo oluntu lomzantsi afrika   \n",
       "1                                                 i-dha iya kuba nobulumko bokubeka umsebenzi naphi na kwisebe ngokusekwe kwiimfuno zokusebenza zalo emva kokubonana nomsebenzi kunye okanye imanyano yakhe ukuba ulandulo lomntu onjalo alufanelekanga i-dha mayibize uncedo olufanelekileyo elungelweni layo   \n",
       "2                                     the province of kwazulu-natal department of transport invites tenders from established contractors experienced in bridge construction for the construction of the kwajolwayo tugela river pedestrian bridge near tugela ferry the duration of the project will be months   \n",
       "3                                                                                    o netefatša gore o ba file dilo ka moka tše le dumelelanego ka tšona mohlala maleri a magolo a a šomišwago go fihlelela meagong e metelele scaffolds a a bolokegilego lefelo la maleba la go šomela go phela gabotse bjbj   \n",
       "4                                                              khomishini ya ndinganyiso ya mbeu yo ewa maana u ya nga mulayo wa khomishini ya ndinganyiso ya mbeu u thetshelesa mbilaelo dzine dza tshimbilelana na tshialula u ya nga mbeu nahone i ivhea sa foramu ya thungo u ya nga mulayo wa ndinganyiso   \n",
       "5                                                                                       dinyakišišo tše tša go dirwa gabedi ka ngwaga di tla lebelela diphetogo tša mebaraka ya mešomo le mekgwa ga mmogo le go thapiwa mešomong ka makaleng ao mešomo ao lego molaong le ao a sego molaong le go hloka me omo   \n",
       "6  kgetse nngwe le nngwe e e sa faposiwang mo tshekong go ya ka temana ya a e tshwanetse kwa ntle ga fa kgetse e tsholotswe kgotsa e fetiseditswe kwa kgotlatshekelo ya bana ya fetisediwa kwa kgotlatshekelo ya bosiamisi ya ngwana gore a ikarabele mo tatofatsong le go sekiwa ga kgetse go ya ka kgaolo ya   \n",
       "7                                            mbadelo dze dza laelwa dzi do kwama mahatulele apo a khothe ya madzhisitirata lihoro line la si vhe na mulandu li do vha lone line la wana masheleni ngeno lihoro le la wanwa mulandu li tshi do vha lone line la tea u lifha ayo masheleni o laelwaho nga khothe   \n",
       "8             maloko a dikhuduthamaga a ikarabela mongwe le mongwe go tonakgolo le go thteramelao ya profense malebana le taolo ya dipotfolio tša bona mme maloko a mangwe ka moka a khuduthamaga le wona bjalo a ikrabela ka seboka mabapi le phethagatšo ya mediro ya mmušo wa profense le go merero ya wona   \n",
       "9                                                                                         fa le dirisiwa lebone le tshwanetse go bontsha lesedi le le benyabenyang le le bogale jo bo dirang gore le kgone go bonwa ke motho yo o bonang sentle mo leseding le le tlwaelegileng mo sekgaleng sa dimitara di le   \n",
       "\n",
       "                                                                                                                                                                                                                                                                                                  cleaned_text  \n",
       "0                                                                                  umgaqosiseko wenza amalungiselelo kumaziko axhasa ulawulo lwesininzi kunye nokuthath inxaxheba kwabafazi ezi ziquka phakathi kwezinye zazo ikomishoni yokulingana ngokwesini ikomishoni yamalungelo oluntu lomzantsi afrika  \n",
       "1                                                   idha iya kuba nobulumko bokubeka umsebenzi naphi na kwisebe ngokusekwe kwiimfuno zokusebenza zalo emva kokubonana nomsebenzi kunye okanye imanyano yakhe ukuba ulandulo lomntu onjalo alufanelekanga idha mayibize uncedo olufanelekileyo elungelweni layo  \n",
       "2                                      the province of kwazulunatal department of transport invites tenders from established contractors experienced in bridge construction for the construction of the kwajolwayo tugela river pedestrian bridge near tugela ferry the duration of the project will be months  \n",
       "3                                                                                    o netefatša gore o ba file dilo ka moka tše le dumelelanego ka tšona mohlala maleri a magolo a a šomišwago go fihlelela meagong e metelele scaffolds a a bolokegilego lefelo la maleba la go šomela go phela gabotse bjbj  \n",
       "4                                                              khomishini ya ndinganyiso ya mbeu yo ewa maana u ya nga mulayo wa khomishini ya ndinganyiso ya mbeu u thetshelesa mbilaelo dzine dza tshimbilelana na tshialula u ya nga mbeu nahone i ivhea sa foramu ya thungo u ya nga mulayo wa ndinganyiso  \n",
       "5                                                                                       dinyakišišo tše tša go dirwa gabedi ka ngwaga di tla lebelela diphetogo tša mebaraka ya mešomo le mekgwa ga mmogo le go thapiwa mešomong ka makaleng ao mešomo ao lego molaong le ao a sego molaong le go hloka me omo  \n",
       "6  kgetse nngwe le nngwe e e sa faposiwang mo tshekong go ya ka temana ya a e tshwanetse kwa ntle ga fa kgetse e tsholotswe kgotsa e fetiseditswe kwa kgotlatshekelo ya bana ya fetisediwa kwa kgotlatshekelo ya bosiamisi ya ngwana gore a ikarabele mo tatofatsong le go sekiwa ga kgetse go ya ka kgaolo ya  \n",
       "7                                            mbadelo dze dza laelwa dzi do kwama mahatulele apo a khothe ya madzhisitirata lihoro line la si vhe na mulandu li do vha lone line la wana masheleni ngeno lihoro le la wanwa mulandu li tshi do vha lone line la tea u lifha ayo masheleni o laelwaho nga khothe  \n",
       "8             maloko a dikhuduthamaga a ikarabela mongwe le mongwe go tonakgolo le go thteramelao ya profense malebana le taolo ya dipotfolio tša bona mme maloko a mangwe ka moka a khuduthamaga le wona bjalo a ikrabela ka seboka mabapi le phethagatšo ya mediro ya mmušo wa profense le go merero ya wona  \n",
       "9                                                                                         fa le dirisiwa lebone le tshwanetse go bontsha lesedi le le benyabenyang le le bogale jo bo dirang gore le kgone go bonwa ke motho yo o bonang sentle mo leseding le le tlwaelegileng mo sekgaleng sa dimitara di le  "
      ]
     },
     "execution_count": 23,
     "metadata": {},
     "output_type": "execute_result"
    }
   ],
   "source": [
    "dftrain['cleaned_text'] = np.vectorize(remove_pattern)(dftrain['text'],'-')\n",
    "dftrain['text'] = dftrain['text'].str.lower()\n",
    "pattern_url = r'http[s]?://(?:[A-Za-z]|[0-9]|[$-_@.&+]|[!*\\(\\),]|(?:%[0-9A-Fa-f][0-9A-Fa-f]))+'\n",
    "subs_url = r'url-web'\n",
    "dftest['text'] = dftest['text'].replace(to_replace = pattern_url, value = subs_url, regex = True)\n",
    "\n",
    "dftrain.head(10)"
   ]
  },
  {
   "cell_type": "code",
   "execution_count": 9,
   "id": "e843e6c7",
   "metadata": {},
   "outputs": [
    {
     "data": {
      "text/plain": [
       "0                                                                                                                   [umgaqosiseko, wenza, amalungiselelo, kumaziko, axhasa, ulawulo, lwesininzi, kunye, nokuthath, inxaxheba, kwabafazi, ezi, ziquka, phakathi, kwezinye, zazo, ikomishoni, yokulingana, ngokwesini, ikomishoni, yamalungelo, oluntu, lomzantsi, afrika]\n",
       "1                                                                             [idha, iya, kuba, nobulumko, bokubeka, umsebenzi, naphi, na, kwisebe, ngokusekwe, kwiimfuno, zokusebenza, zalo, emva, kokubonana, nomsebenzi, kunye, okanye, imanyano, yakhe, ukuba, ulandulo, lomntu, onjalo, alufanelekanga, idha, mayibize, uncedo, olufanelekileyo, elungelweni, layo]\n",
       "2                                                          [the, province, of, kwazulunatal, department, of, transport, invites, tenders, from, established, contractors, experienced, in, bridge, construction, for, the, construction, of, the, kwajolwayo, tugela, river, pedestrian, bridge, near, tugela, ferry, the, duration, of, the, project, will, be, months]\n",
       "3                                                                                                     [o, netefatša, gore, o, ba, file, dilo, ka, moka, tše, le, dumelelanego, ka, tšona, mohlala, maleri, a, magolo, a, a, šomišwago, go, fihlelela, meagong, e, metelele, scaffolds, a, a, bolokegilego, lefelo, la, maleba, la, go, šomela, go, phela, gabotse, bjbj]\n",
       "4                                                                            [khomishini, ya, ndinganyiso, ya, mbeu, yo, ewa, maana, u, ya, nga, mulayo, wa, khomishini, ya, ndinganyiso, ya, mbeu, u, thetshelesa, mbilaelo, dzine, dza, tshimbilelana, na, tshialula, u, ya, nga, mbeu, nahone, i, ivhea, sa, foramu, ya, thungo, u, ya, nga, mulayo, wa, ndinganyiso]\n",
       "5                                                                                                       [dinyakišišo, tše, tša, go, dirwa, gabedi, ka, ngwaga, di, tla, lebelela, diphetogo, tša, mebaraka, ya, mešomo, le, mekgwa, ga, mmogo, le, go, thapiwa, mešomong, ka, makaleng, ao, mešomo, ao, lego, molaong, le, ao, a, sego, molaong, le, go, hloka, me, omo]\n",
       "6    [kgetse, nngwe, le, nngwe, e, e, sa, faposiwang, mo, tshekong, go, ya, ka, temana, ya, a, e, tshwanetse, kwa, ntle, ga, fa, kgetse, e, tsholotswe, kgotsa, e, fetiseditswe, kwa, kgotlatshekelo, ya, bana, ya, fetisediwa, kwa, kgotlatshekelo, ya, bosiamisi, ya, ngwana, gore, a, ikarabele, mo, tatofatsong, le, go, sekiwa, ga, kgetse, go, ya, ka, kgaolo, ya]\n",
       "7                                                   [mbadelo, dze, dza, laelwa, dzi, do, kwama, mahatulele, apo, a, khothe, ya, madzhisitirata, lihoro, line, la, si, vhe, na, mulandu, li, do, vha, lone, line, la, wana, masheleni, ngeno, lihoro, le, la, wanwa, mulandu, li, tshi, do, vha, lone, line, la, tea, u, lifha, ayo, masheleni, o, laelwaho, nga, khothe]\n",
       "8                   [maloko, a, dikhuduthamaga, a, ikarabela, mongwe, le, mongwe, go, tonakgolo, le, go, thteramelao, ya, profense, malebana, le, taolo, ya, dipotfolio, tša, bona, mme, maloko, a, mangwe, ka, moka, a, khuduthamaga, le, wona, bjalo, a, ikrabela, ka, seboka, mabapi, le, phethagatšo, ya, mediro, ya, mmušo, wa, profense, le, go, merero, ya, wona]\n",
       "9                                                                                                          [fa, le, dirisiwa, lebone, le, tshwanetse, go, bontsha, lesedi, le, le, benyabenyang, le, le, bogale, jo, bo, dirang, gore, le, kgone, go, bonwa, ke, motho, yo, o, bonang, sentle, mo, leseding, le, le, tlwaelegileng, mo, sekgaleng, sa, dimitara, di, le]\n",
       "Name: cleaned_text, dtype: object"
      ]
     },
     "execution_count": 9,
     "metadata": {},
     "output_type": "execute_result"
    }
   ],
   "source": [
    "tokenized_msg = dftrain['cleaned_text'].apply(lambda x:x.split())\n",
    "tokenized_msg.head(10)"
   ]
  },
  {
   "cell_type": "code",
   "execution_count": 24,
   "id": "d91619f8",
   "metadata": {},
   "outputs": [],
   "source": [
    "language_features = np.array(dftrain['text'])\n",
    "language_targets = np.array(dftrain['lang_id'])\n",
    "X_train, X_test, y_train, y_test = train_test_split(language_features, \n",
    "                                                    language_targets,\n",
    "                                                    test_size = 0.3,\n",
    "                                                    random_state = 42)"
   ]
  },
  {
   "cell_type": "code",
   "execution_count": 25,
   "id": "f67a4965",
   "metadata": {},
   "outputs": [],
   "source": [
    "from sklearn.pipeline import Pipeline\n",
    "tfidf_vect = TfidfVectorizer(analyzer='char', ngram_range=(1,3))\n",
    "model = MultinomialNB()\n",
    "text_clf = Pipeline([('tfidf', tfidf_vect),\n",
    "                    ('clf', model),\n",
    "                    ])"
   ]
  },
  {
   "cell_type": "code",
   "execution_count": 26,
   "id": "b433d7d9",
   "metadata": {},
   "outputs": [
    {
     "data": {
      "text/plain": [
       "Pipeline(steps=[('tfidf', TfidfVectorizer(analyzer='char', ngram_range=(1, 3))),\n",
       "                ('clf', MultinomialNB())])"
      ]
     },
     "execution_count": 26,
     "metadata": {},
     "output_type": "execute_result"
    }
   ],
   "source": [
    "text_clf.fit(X_train, y_train)"
   ]
  },
  {
   "cell_type": "code",
   "execution_count": 27,
   "id": "e62e988d",
   "metadata": {},
   "outputs": [],
   "source": [
    "predictions = text_clf.predict(X_test)"
   ]
  },
  {
   "cell_type": "code",
   "execution_count": 28,
   "id": "6eac893a",
   "metadata": {},
   "outputs": [
    {
     "name": "stdout",
     "output_type": "stream",
     "text": [
      "Mean cross-validation accuracy: 0.9971515151515151\n"
     ]
    }
   ],
   "source": [
    "scores = cross_val_score(text_clf, language_features, language_targets, cv=5)\n",
    "print(\"Mean cross-validation accuracy: \" + str(scores.mean()))"
   ]
  },
  {
   "cell_type": "markdown",
   "id": "1d2b01cb",
   "metadata": {},
   "source": [
    "## **Testing data**"
   ]
  },
  {
   "cell_type": "code",
   "execution_count": 12,
   "id": "603eee3e",
   "metadata": {
    "scrolled": false
   },
   "outputs": [
    {
     "data": {
      "text/html": [
       "<div>\n",
       "<style scoped>\n",
       "    .dataframe tbody tr th:only-of-type {\n",
       "        vertical-align: middle;\n",
       "    }\n",
       "\n",
       "    .dataframe tbody tr th {\n",
       "        vertical-align: top;\n",
       "    }\n",
       "\n",
       "    .dataframe thead th {\n",
       "        text-align: right;\n",
       "    }\n",
       "</style>\n",
       "<table border=\"1\" class=\"dataframe\">\n",
       "  <thead>\n",
       "    <tr style=\"text-align: right;\">\n",
       "      <th></th>\n",
       "      <th>index</th>\n",
       "      <th>text</th>\n",
       "      <th>cleaned_text</th>\n",
       "    </tr>\n",
       "  </thead>\n",
       "  <tbody>\n",
       "    <tr>\n",
       "      <th>0</th>\n",
       "      <td>1</td>\n",
       "      <td>mmasepala fa maemo a a kgethegileng a letlelela kgato eo</td>\n",
       "      <td>Mmasepala, fa maemo a a kgethegileng a letlelela kgato eo.</td>\n",
       "    </tr>\n",
       "    <tr>\n",
       "      <th>1</th>\n",
       "      <td>2</td>\n",
       "      <td>uzakwaziswa ngokufaneleko nakungafuneka eminye imitlolo engezelelako ukuqedelela ukutloliswa kwesibawo sakho</td>\n",
       "      <td>Uzakwaziswa ngokufaneleko nakungafuneka eminye imitlolo engezelelako ukuqedelela ukutloliswa kwesibawo sakho.</td>\n",
       "    </tr>\n",
       "    <tr>\n",
       "      <th>2</th>\n",
       "      <td>3</td>\n",
       "      <td>tshivhumbeo tshi fana na ngano dza vhathu</td>\n",
       "      <td>Tshivhumbeo tshi fana na ngano dza vhathu.</td>\n",
       "    </tr>\n",
       "    <tr>\n",
       "      <th>3</th>\n",
       "      <td>4</td>\n",
       "      <td>kube inja nelikati betingevakala kutsi titsini naticocisana</td>\n",
       "      <td>Kube inja nelikati betingevakala kutsi titsini naticocisana.</td>\n",
       "    </tr>\n",
       "    <tr>\n",
       "      <th>4</th>\n",
       "      <td>5</td>\n",
       "      <td>winste op buitelandse valuta</td>\n",
       "      <td>Winste op buitelandse valuta.</td>\n",
       "    </tr>\n",
       "    <tr>\n",
       "      <th>5</th>\n",
       "      <td>6</td>\n",
       "      <td>ke feela dilense tše hlakilego tša pono e tee goba tše pedi tšeo di lefelelwago kgetho ya diforeimo e a hwetšagala yeo maloko a ka kgethago go tšwa go yona ge o nyaka foreimo ya go bitša ga nnyane o tla swanelwa ke go lefelela phapano yeo</td>\n",
       "      <td>Ke feela dilense tše hlakilego, tša pono e tee goba tše pedi tšeo di lefelelwago. Kgetho ya diforeimo e a hwetšagala yeo maloko a ka kgethago go tšwa go yona. Ge o nyaka foreimo ya go bitša ga nnyane, o tla swanelwa ke go lefelela phapano yeo.</td>\n",
       "    </tr>\n",
       "    <tr>\n",
       "      <th>6</th>\n",
       "      <td>7</td>\n",
       "      <td>fn am  final gems birthing optionszulutxtfn</td>\n",
       "      <td>&lt;fn&gt;(762010101403 AM) 1495 Final Gems Birthing Options_ZULU.txt&lt;/fn&gt;</td>\n",
       "    </tr>\n",
       "    <tr>\n",
       "      <th>7</th>\n",
       "      <td>8</td>\n",
       "      <td>ntjhafatso ya konteraka ya mosebetsi etsa bonnete hore tsohle tse lokelwang ho ngolwa fatshe di entswe</td>\n",
       "      <td>Ntjhafatso ya konteraka ya mosebetsi: Etsa bonnete hore tsohle tse lokelwang ho ngolwa fatshe di entswe!</td>\n",
       "    </tr>\n",
       "    <tr>\n",
       "      <th>8</th>\n",
       "      <td>9</td>\n",
       "      <td>ugems uhlinzeka ngezinzuzo zemithi yezifo ezingapheli kuwo wonke amalunga ukuze ukwazi ukuthola imithi yezifo ezingapheli kufanele ubhalise ohlelweni lwemithi yezifo ezingapheli emva kokuthola isaziso sokuthi iyilunga elibhalisiwe lakwagems</td>\n",
       "      <td>u-GEMS uhlinzeka ngezinzuzo zemithi yezifo ezingapheli kuwo wonke amalunga. ukuze ukwazi ukuthola imithi yezifo ezingapheli kufanele ubhalise ohlelweni lwemithi yezifo ezingapheli, emva kokuthola isaziso sokuthi iyilunga elibhalisiwe lakwa-GEMS.</td>\n",
       "    </tr>\n",
       "    <tr>\n",
       "      <th>9</th>\n",
       "      <td>10</td>\n",
       "      <td>so on occasion are statistics misused</td>\n",
       "      <td>So, on occasion, are statistics misused.</td>\n",
       "    </tr>\n",
       "  </tbody>\n",
       "</table>\n",
       "</div>"
      ],
      "text/plain": [
       "   index  \\\n",
       "0      1   \n",
       "1      2   \n",
       "2      3   \n",
       "3      4   \n",
       "4      5   \n",
       "5      6   \n",
       "6      7   \n",
       "7      8   \n",
       "8      9   \n",
       "9     10   \n",
       "\n",
       "                                                                                                                                                                                                                                               text  \\\n",
       "0                                                                                                                                                                                          mmasepala fa maemo a a kgethegileng a letlelela kgato eo   \n",
       "1                                                                                                                                      uzakwaziswa ngokufaneleko nakungafuneka eminye imitlolo engezelelako ukuqedelela ukutloliswa kwesibawo sakho   \n",
       "2                                                                                                                                                                                                         tshivhumbeo tshi fana na ngano dza vhathu   \n",
       "3                                                                                                                                                                                       kube inja nelikati betingevakala kutsi titsini naticocisana   \n",
       "4                                                                                                                                                                                                                      winste op buitelandse valuta   \n",
       "5    ke feela dilense tše hlakilego tša pono e tee goba tše pedi tšeo di lefelelwago kgetho ya diforeimo e a hwetšagala yeo maloko a ka kgethago go tšwa go yona ge o nyaka foreimo ya go bitša ga nnyane o tla swanelwa ke go lefelela phapano yeo   \n",
       "6                                                                                                                                                                                                       fn am  final gems birthing optionszulutxtfn   \n",
       "7                                                                                                                                            ntjhafatso ya konteraka ya mosebetsi etsa bonnete hore tsohle tse lokelwang ho ngolwa fatshe di entswe   \n",
       "8  ugems uhlinzeka ngezinzuzo zemithi yezifo ezingapheli kuwo wonke amalunga ukuze ukwazi ukuthola imithi yezifo ezingapheli kufanele ubhalise ohlelweni lwemithi yezifo ezingapheli emva kokuthola isaziso sokuthi iyilunga elibhalisiwe lakwagems   \n",
       "9                                                                                                                                                                                                             so on occasion are statistics misused   \n",
       "\n",
       "                                                                                                                                                                                                                                            cleaned_text  \n",
       "0                                                                                                                                                                                             Mmasepala, fa maemo a a kgethegileng a letlelela kgato eo.  \n",
       "1                                                                                                                                          Uzakwaziswa ngokufaneleko nakungafuneka eminye imitlolo engezelelako ukuqedelela ukutloliswa kwesibawo sakho.  \n",
       "2                                                                                                                                                                                                             Tshivhumbeo tshi fana na ngano dza vhathu.  \n",
       "3                                                                                                                                                                                           Kube inja nelikati betingevakala kutsi titsini naticocisana.  \n",
       "4                                                                                                                                                                                                                          Winste op buitelandse valuta.  \n",
       "5    Ke feela dilense tše hlakilego, tša pono e tee goba tše pedi tšeo di lefelelwago. Kgetho ya diforeimo e a hwetšagala yeo maloko a ka kgethago go tšwa go yona. Ge o nyaka foreimo ya go bitša ga nnyane, o tla swanelwa ke go lefelela phapano yeo.  \n",
       "6                                                                                                                                                                                   <fn>(762010101403 AM) 1495 Final Gems Birthing Options_ZULU.txt</fn>  \n",
       "7                                                                                                                                               Ntjhafatso ya konteraka ya mosebetsi: Etsa bonnete hore tsohle tse lokelwang ho ngolwa fatshe di entswe!  \n",
       "8  u-GEMS uhlinzeka ngezinzuzo zemithi yezifo ezingapheli kuwo wonke amalunga. ukuze ukwazi ukuthola imithi yezifo ezingapheli kufanele ubhalise ohlelweni lwemithi yezifo ezingapheli, emva kokuthola isaziso sokuthi iyilunga elibhalisiwe lakwa-GEMS.  \n",
       "9                                                                                                                                                                                                               So, on occasion, are statistics misused.  "
      ]
     },
     "execution_count": 12,
     "metadata": {},
     "output_type": "execute_result"
    }
   ],
   "source": [
    "#('Removing URLs')\n",
    "pattern_url = r'http[s]?://(?:[A-Za-z]|[0-9]|[$-_@.&+]|[!*\\(\\),]|(?:%[0-9A-Fa-f][0-9A-Fa-f]))+'\n",
    "subs_url = r'url-web'\n",
    "dftest['text'] = dftest['text'].replace(to_replace = pattern_url, value = subs_url, regex = True)\n",
    "\n",
    "#('Lowering case')\n",
    "dftest['text'] = dftest['text'].str.lower()\n",
    "\n",
    "import string\n",
    "#('Cleaning punctuation')\n",
    "def remove_punctuation_numbers(post):\n",
    "    punc_numbers = string.punctuation + '0123456789'\n",
    "    return ''.join([l for l in post if l not in punc_numbers])\n",
    "dftest['text'] = dftest['text'].apply(remove_punctuation_numbers)\n",
    "dftest.head(10)"
   ]
  },
  {
   "cell_type": "code",
   "execution_count": 32,
   "id": "074e8f8b",
   "metadata": {},
   "outputs": [],
   "source": [
    "X = np.array(dftrain['text'])\n",
    "y = np.array(dftrain['lang_id'])\n",
    "\n",
    "cv = CountVectorizer()\n",
    "X = cv.fit_transform(X)\n",
    "X_train, X_test, y_train, y_test = train_test_split(X, y, test_size = 0.3,\n",
    "                                                    random_state = 42)"
   ]
  },
  {
   "cell_type": "code",
   "execution_count": 33,
   "id": "d5e80e92",
   "metadata": {},
   "outputs": [
    {
     "data": {
      "text/plain": [
       "0.9991919191919192"
      ]
     },
     "execution_count": 33,
     "metadata": {},
     "output_type": "execute_result"
    }
   ],
   "source": [
    "model = MultinomialNB()\n",
    "model.fit(X_train,y_train)\n",
    "model.score(X_test,y_test)"
   ]
  },
  {
   "cell_type": "code",
   "execution_count": 34,
   "id": "7c722fde",
   "metadata": {},
   "outputs": [
    {
     "name": "stdout",
     "output_type": "stream",
     "text": [
      "              precision    recall  f1-score   support\n",
      "\n",
      "         afr       1.00      1.00      1.00       895\n",
      "         eng       1.00      1.00      1.00       909\n",
      "         nbl       1.00      1.00      1.00       879\n",
      "         nso       1.00      1.00      1.00       941\n",
      "         sot       1.00      1.00      1.00       918\n",
      "         ssw       1.00      1.00      1.00       908\n",
      "         tsn       1.00      1.00      1.00       882\n",
      "         tso       1.00      1.00      1.00       857\n",
      "         ven       1.00      1.00      1.00       936\n",
      "         xho       1.00      1.00      1.00       922\n",
      "         zul       1.00      1.00      1.00       853\n",
      "\n",
      "    accuracy                           1.00      9900\n",
      "   macro avg       1.00      1.00      1.00      9900\n",
      "weighted avg       1.00      1.00      1.00      9900\n",
      "\n"
     ]
    }
   ],
   "source": [
    "neigh =  MultinomialNB()\n",
    "\n",
    "neigh.fit(X_train, y_train)\n",
    "y_p = neigh.predict(X_test)\n",
    "print(classification_report(y_test, y_p))"
   ]
  },
  {
   "cell_type": "code",
   "execution_count": 35,
   "id": "76aa2099",
   "metadata": {},
   "outputs": [],
   "source": [
    "model_naive = MultinomialNB().fit(X_train, y_train)\n",
    "predicted_naive = model_naive.predict(X_test)"
   ]
  },
  {
   "cell_type": "code",
   "execution_count": 36,
   "id": "4c363cef",
   "metadata": {},
   "outputs": [],
   "source": [
    "train_counts = cv.fit_transform(dftrain['text'])\n",
    "test_counts = cv.transform(dftest['text'])"
   ]
  },
  {
   "cell_type": "code",
   "execution_count": 37,
   "id": "e6a058eb",
   "metadata": {},
   "outputs": [],
   "source": [
    "predictions = neigh.predict(test_counts)"
   ]
  },
  {
   "cell_type": "code",
   "execution_count": 39,
   "id": "9cb7ff2b",
   "metadata": {},
   "outputs": [],
   "source": [
    "results = pd.DataFrame({'Index':dftest['index'],'lang_id':predictions})\n",
    "results.to_csv('Tshepo.csv',index=False)"
   ]
  },
  {
   "cell_type": "code",
   "execution_count": 40,
   "id": "3079ae62",
   "metadata": {},
   "outputs": [
    {
     "data": {
      "text/html": [
       "<div>\n",
       "<style scoped>\n",
       "    .dataframe tbody tr th:only-of-type {\n",
       "        vertical-align: middle;\n",
       "    }\n",
       "\n",
       "    .dataframe tbody tr th {\n",
       "        vertical-align: top;\n",
       "    }\n",
       "\n",
       "    .dataframe thead th {\n",
       "        text-align: right;\n",
       "    }\n",
       "</style>\n",
       "<table border=\"1\" class=\"dataframe\">\n",
       "  <thead>\n",
       "    <tr style=\"text-align: right;\">\n",
       "      <th></th>\n",
       "      <th>Index</th>\n",
       "      <th>lang_id</th>\n",
       "    </tr>\n",
       "  </thead>\n",
       "  <tbody>\n",
       "    <tr>\n",
       "      <th>0</th>\n",
       "      <td>1</td>\n",
       "      <td>tsn</td>\n",
       "    </tr>\n",
       "    <tr>\n",
       "      <th>1</th>\n",
       "      <td>2</td>\n",
       "      <td>nbl</td>\n",
       "    </tr>\n",
       "    <tr>\n",
       "      <th>2</th>\n",
       "      <td>3</td>\n",
       "      <td>ven</td>\n",
       "    </tr>\n",
       "    <tr>\n",
       "      <th>3</th>\n",
       "      <td>4</td>\n",
       "      <td>ssw</td>\n",
       "    </tr>\n",
       "    <tr>\n",
       "      <th>4</th>\n",
       "      <td>5</td>\n",
       "      <td>afr</td>\n",
       "    </tr>\n",
       "  </tbody>\n",
       "</table>\n",
       "</div>"
      ],
      "text/plain": [
       "   Index lang_id\n",
       "0      1     tsn\n",
       "1      2     nbl\n",
       "2      3     ven\n",
       "3      4     ssw\n",
       "4      5     afr"
      ]
     },
     "execution_count": 40,
     "metadata": {},
     "output_type": "execute_result"
    }
   ],
   "source": [
    "results.head()"
   ]
  },
  {
   "cell_type": "code",
   "execution_count": null,
   "id": "efe90fb9",
   "metadata": {},
   "outputs": [],
   "source": []
  }
 ],
 "metadata": {
  "kernelspec": {
   "display_name": "Python 3",
   "language": "python",
   "name": "python3"
  },
  "language_info": {
   "codemirror_mode": {
    "name": "ipython",
    "version": 3
   },
   "file_extension": ".py",
   "mimetype": "text/x-python",
   "name": "python",
   "nbconvert_exporter": "python",
   "pygments_lexer": "ipython3",
   "version": "3.8.8"
  }
 },
 "nbformat": 4,
 "nbformat_minor": 5
}
